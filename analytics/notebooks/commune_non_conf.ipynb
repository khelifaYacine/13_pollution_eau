{
 "cells": [
  {
   "cell_type": "markdown",
   "metadata": {},
   "source": [
    "# Communes en non conformité\n"
   ]
  },
  {
   "cell_type": "markdown",
   "metadata": {},
   "source": [
    "## Contexte :\n",
    "\n",
    "- Quelles sont les communes avec le plus de non conformités dans l'année VS le moins\n",
    "\n",
    "Choses à faire :\n",
    "\n",
    "\n",
    "- Représenter trois types de situations liées à la conformité: C, NC0 et NC1 (cf <https://outline.services.dataforgood.fr/doc/espace-de-travail-data-analysts-Q3VWrKUd2g>)\n",
    "\n",
    "- Répartition géographique de ces situations à l'échelle de la commune\n",
    "\n",
    "- Comparer l’année 2024 avec les précédentes, jusqu’à 2020 inclue (évolution du nombre de situations NC, évolution de la répartition géographique etc)\n",
    "\n",
    "\n",
    "Comment valider :\n",
    "- faire une pull request depuis votre fork vers le main du repo github du projet (<<<https://github.com/dataforgoodfr/13_pollution_eau>>>)\n"
   ]
  },
  {
   "cell_type": "markdown",
   "metadata": {},
   "source": [
    "## Partie Code et analyse"
   ]
  },
  {
   "cell_type": "code",
   "execution_count": null,
   "metadata": {},
   "outputs": [],
   "source": [
    "# importation des packages\n",
    "import duckdb\n",
    "import pandas as pd\n",
    "import numpy as np\n",
    "import matplotlib.pyplot as plt\n",
    "import seaborn as sns\n"
   ]
  },
  {
   "cell_type": "code",
   "execution_count": null,
   "metadata": {},
   "outputs": [],
   "source": []
  }
 ],
 "metadata": {
  "kernelspec": {
   "display_name": ".venv",
   "language": "python",
   "name": "python3"
  },
  "language_info": {
   "codemirror_mode": {
    "name": "ipython",
    "version": 3
   },
   "file_extension": ".py",
   "mimetype": "text/x-python",
   "name": "python",
   "nbconvert_exporter": "python",
   "pygments_lexer": "ipython3",
   "version": "3.12.8"
  }
 },
 "nbformat": 4,
 "nbformat_minor": 2
}
